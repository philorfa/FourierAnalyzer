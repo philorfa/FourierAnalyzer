{
 "cells": [
  {
   "cell_type": "code",
   "execution_count": 17,
   "metadata": {},
   "outputs": [],
   "source": [
    "from matplotlib.backends.backend_tkagg import FigureCanvasTkAgg\n",
    "from matplotlib.figure import Figure\n",
    "import tkinter as Tk\n",
    "import matplotlib.animation as animation\n",
    "import peakutils"
   ]
  },
  {
   "cell_type": "code",
   "execution_count": 18,
   "metadata": {},
   "outputs": [],
   "source": [
    "import pyaudio\n",
    "import numpy as np\n",
    "import matplotlib.pyplot as plt\n",
    "from tkinter import TclError\n",
    "import struct\n",
    "from scipy.io.wavfile import write\n",
    "import wave"
   ]
  },
  {
   "cell_type": "code",
   "execution_count": 19,
   "metadata": {},
   "outputs": [],
   "source": [
    "FORMAT = pyaudio.paInt16 # 16bit format per sample\n",
    "RATE = 44100 # Samples per second\n",
    "CHANNELS = 1 # Only one source , your microphone\n",
    "CHUNK = 1024 # We split our data into 1024 samples each time , for utilizing processing power"
   ]
  },
  {
   "cell_type": "code",
   "execution_count": 20,
   "metadata": {},
   "outputs": [],
   "source": [
    "\n",
    "class Record:\n",
    "    def __init__(self,Format,rate,chunk,channels):\n",
    "            # Initiate details\n",
    "            self.chunk = chunk\n",
    "            self.format = Format\n",
    "            self.channels = channels\n",
    "            self.rate = rate\n",
    "\n",
    "            self.audio = pyaudio.PyAudio()\n",
    "            self.stream = self.audio.open(format = self.format,\n",
    "                                          channels = self.channels,\n",
    "                                          rate = self.rate, \n",
    "                                          input=True)\n",
    "                                          #output=True,\n",
    "                                          #frames_per_buffer=self.chunk)\n",
    "            \n",
    "    def make_plots(self):\n",
    "        self.fig = plt.Figure(figsize=(20, 10))\n",
    "        self.af = np.linspace(0, self.rate, self.chunk//2 +1)\n",
    "        root = Tk.Tk()\n",
    "        self.label = Tk.Label(root,text=\"Παναγιωτης Σακκουλης\").grid(column=0, row=0)\n",
    "        self.canvas = FigureCanvasTkAgg(self.fig, master=root)\n",
    "        self.canvas.get_tk_widget().grid(column=0,row=1)\n",
    "        self.ax = self.fig.add_subplot()\n",
    "        self.line, = self.ax.plot(self.af, np.random.rand(self.chunk//2 +1))\n",
    "        self.ax.set_xlabel('Frequency (Hz)')\n",
    "        self.ax.set_ylabel('Power (dB)')\n",
    "        self.ax.set_title('Fourier')\n",
    "        xps=0\n",
    "        yps=0\n",
    "        text= \"x={:.3f}, y={:.3f}\".format(xps, yps) # Text at the pointer of max\n",
    "        self.an=self.ax.annotate(text,\n",
    "        xy=(xps, yps), xycoords='data',\n",
    "        xytext=(-15, 25), textcoords='offset points',\n",
    "        arrowprops=dict(facecolor='black', shrink=0.05),\n",
    "        horizontalalignment='left', verticalalignment='bottom') # Create the array"
   ]
  },
  {
   "cell_type": "code",
   "execution_count": null,
   "metadata": {},
   "outputs": [
    {
     "name": "stdout",
     "output_type": "stream",
     "text": [
      "1 Seconds Recorded\n",
      "2 Seconds Recorded\n"
     ]
    }
   ],
   "source": [
    "if __name__ == '__main__':\n",
    "    sound=Record(FORMAT,RATE,CHUNK,CHANNELS)\n",
    "    sound.make_plots()\n",
    "    np.seterr(divide = 'ignore')\n",
    "    frames=[]\n",
    "\n",
    "    def animate(i):\n",
    "        sound.an.remove()\n",
    "        if(i%(sound.rate//sound.chunk)==0)and(i>0):\n",
    "            print(int(i/(sound.rate//sound.chunk)),'Seconds Recorded')\n",
    "        in_data=sound.stream.read(sound.chunk)\n",
    "        frames.append(in_data)\n",
    "        audio_data = np.frombuffer(in_data, np.int16)\n",
    "        dfft=10*np.log10(abs(np.fft.rfft(audio_data))) #  Fast Fourier Transform, 10*log10(abs) is to scale it to dB\n",
    "        xf = np.fft.rfftfreq(audio_data.size, d=1.0/sound.rate)\n",
    "        \n",
    "        data_int = struct.unpack(str(2 * sound.chunk) + 'B', in_data)  # Turn int into bit\n",
    "        data_np = np.array(data_int, dtype='b')[::2] +128\n",
    "        \n",
    "        xmid = np.argmax(dfft) # the index of the max price\n",
    "        x=xf[xmid]\n",
    "        \n",
    "        y = np.amax(dfft) # The actual max\n",
    "        sound.ax.set_ylim(max(0,min(dfft))-10, min(20000,max(dfft))+10)\n",
    "        sound.ax.set_xlim(0, 20000)\n",
    "        sound.line.set_data(xf,dfft)  # update the data\n",
    "        text= \"x={:.3f}, y={:.3f}\".format(x, y) # Text at the pointer of max\n",
    "        sound.an=sound.ax.annotate(text,\n",
    "        xy=(x, y), xycoords='data',\n",
    "        xytext=(-15, 25), textcoords='offset points',\n",
    "        arrowprops=dict(facecolor='black', shrink=0.05),\n",
    "        horizontalalignment='left', verticalalignment='bottom') # Create the array\n",
    "        return sound.line,\n",
    "    \n",
    "    \n",
    "    ani = animation.FuncAnimation(sound.fig, animate, interval=1, blit=False)\n",
    "    Tk.mainloop()\n",
    "    print(\"DONE\")\n",
    "    sound.stream.stop_stream() # Stop the stream\n",
    "    sound.stream.close()\n",
    "    \n",
    "    wf = wave.open(\"fft.wav\", 'wb')\n",
    "    wf.setnchannels(sound.channels)\n",
    "    wf.setsampwidth(sound.audio.get_sample_size(sound.format))\n",
    "    wf.setframerate(sound.rate)\n",
    "    wf.writeframes(b''.join(frames)) # we save it as byte type \n",
    "    wf.close()     \n",
    "       "
   ]
  },
  {
   "cell_type": "code",
   "execution_count": null,
   "metadata": {},
   "outputs": [],
   "source": []
  },
  {
   "cell_type": "code",
   "execution_count": null,
   "metadata": {},
   "outputs": [],
   "source": []
  },
  {
   "cell_type": "code",
   "execution_count": null,
   "metadata": {},
   "outputs": [],
   "source": []
  }
 ],
 "metadata": {
  "kernelspec": {
   "display_name": "Python 3",
   "language": "python",
   "name": "python3"
  },
  "language_info": {
   "codemirror_mode": {
    "name": "ipython",
    "version": 3
   },
   "file_extension": ".py",
   "mimetype": "text/x-python",
   "name": "python",
   "nbconvert_exporter": "python",
   "pygments_lexer": "ipython3",
   "version": "3.8.1"
  }
 },
 "nbformat": 4,
 "nbformat_minor": 4
}
